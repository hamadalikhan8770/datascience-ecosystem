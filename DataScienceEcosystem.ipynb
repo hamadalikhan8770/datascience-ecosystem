{
  "metadata": {
    "kernelspec": {
      "name": "python",
      "display_name": "Python (Pyodide)",
      "language": "python"
    },
    "language_info": {
      "codemirror_mode": {
        "name": "python",
        "version": 3
      },
      "file_extension": ".py",
      "mimetype": "text/x-python",
      "name": "python",
      "nbconvert_exporter": "python",
      "pygments_lexer": "ipython3",
      "version": "3.8"
    }
  },
  "nbformat_minor": 5,
  "nbformat": 4,
  "cells": [
    {
      "id": "0e9aee33-e458-42d1-b49d-64d911e4b455",
      "cell_type": "markdown",
      "source": "# Data Science Tools and Ecosystem",
      "metadata": {}
    },
    {
      "id": "198707ae-dc4d-4e8e-9763-84987630ce3e",
      "cell_type": "markdown",
      "source": "In this notebook, Data Science Tools and Ecosystem are summarized.\n",
      "metadata": {}
    },
    {
      "id": "ae49770b-9dda-4f69-9ea8-ad0e057cce04",
      "cell_type": "markdown",
      "source": "Some of the popular languages that Data Scientists use are:\n1. Python\n2. R\n3. SQL\n",
      "metadata": {}
    },
    {
      "id": "b29e6ec1-f5ed-4bdf-a6da-ebc4afc0dea4",
      "cell_type": "markdown",
      "source": "Some of the commonly used libraries used by Data Scientists include:\n1. Pandas\n2. NumPy\n3. Matplotlib\n",
      "metadata": {}
    },
    {
      "id": "9edcbc51-a00f-43bc-96d9-3df27da5d13d",
      "cell_type": "markdown",
      "source": "| Data Science Tools |\n|---------------------|\n| Jupyter Notebook    |\n| RStudio             |\n| Apache Zeppelin     |\n",
      "metadata": {}
    },
    {
      "id": "22ab031f-ab4e-4efd-b036-f70d7a6e96bb",
      "cell_type": "markdown",
      "source": "### Below are a few examples of evaluating arithmetic expressions in Python.\n",
      "metadata": {}
    },
    {
      "id": "b7c96293-e769-4120-950d-61cba6e91c8b",
      "cell_type": "code",
      "source": "# This is a simple arithmetic expression to multiply then add integers\n(3*4)+5\n",
      "metadata": {
        "trusted": true
      },
      "outputs": [
        {
          "execution_count": 4,
          "output_type": "execute_result",
          "data": {
            "text/plain": "17"
          },
          "metadata": {}
        }
      ],
      "execution_count": 4
    },
    {
      "id": "9f8b7106-01f6-4cd9-be97-886cdc7cf965",
      "cell_type": "code",
      "source": "# This will convert 200 minutes to hours by dividing by 60\n200/60\n",
      "metadata": {
        "trusted": true
      },
      "outputs": [
        {
          "execution_count": 3,
          "output_type": "execute_result",
          "data": {
            "text/plain": "3.3333333333333335"
          },
          "metadata": {}
        }
      ],
      "execution_count": 3
    },
    {
      "id": "92d1c216-8918-405d-bc4b-6ea3511c707e",
      "cell_type": "markdown",
      "source": "Objectives:\n List popular languages for Data Science\n List commonly used libraries for Data Science\n Create tables in Jupyter using Markdown\n Perform simple arithmetic expressions in Python\n Share Jupyter Notebooks on GitHub\n",
      "metadata": {}
    },
    {
      "id": "083e483d-62c9-47f7-a97c-c0c5c441a7f4",
      "cell_type": "markdown",
      "source": "## Author\nHamad Ali\n",
      "metadata": {}
    },
    {
      "id": "3eb792b8-2651-41f1-95f7-0782ef060870",
      "cell_type": "code",
      "source": "",
      "metadata": {
        "trusted": true
      },
      "outputs": [],
      "execution_count": null
    },
    {
      "id": "0b2251a5-47b9-4103-a15f-421e66cbc1bf",
      "cell_type": "code",
      "source": "",
      "metadata": {
        "trusted": true
      },
      "outputs": [],
      "execution_count": null
    }
  ]
}